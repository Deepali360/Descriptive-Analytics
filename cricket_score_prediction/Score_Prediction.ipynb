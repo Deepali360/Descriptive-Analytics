{
 "cells": [
  {
   "cell_type": "markdown",
   "id": "64de00f8",
   "metadata": {},
   "source": [
    "# DATA MINING - CRICKET SCORE PREDICTION- INSPIRED FROM KAGGLE"
   ]
  },
  {
   "cell_type": "markdown",
   "id": "548eea44",
   "metadata": {},
   "source": [
    "using algorithm- Linear, Lass0 and Random Forest"
   ]
  },
  {
   "cell_type": "code",
   "execution_count": 1,
   "id": "937ca45b",
   "metadata": {},
   "outputs": [],
   "source": [
    "import pandas as pd\n",
    "import numpy as np"
   ]
  },
  {
   "cell_type": "code",
   "execution_count": 2,
   "id": "63f1d602",
   "metadata": {},
   "outputs": [],
   "source": [
    "df= pd.read_csv('T20.csv')"
   ]
  },
  {
   "cell_type": "code",
   "execution_count": 3,
   "id": "47d4bccc",
   "metadata": {},
   "outputs": [
    {
     "data": {
      "text/html": [
       "<div>\n",
       "<style scoped>\n",
       "    .dataframe tbody tr th:only-of-type {\n",
       "        vertical-align: middle;\n",
       "    }\n",
       "\n",
       "    .dataframe tbody tr th {\n",
       "        vertical-align: top;\n",
       "    }\n",
       "\n",
       "    .dataframe thead th {\n",
       "        text-align: right;\n",
       "    }\n",
       "</style>\n",
       "<table border=\"1\" class=\"dataframe\">\n",
       "  <thead>\n",
       "    <tr style=\"text-align: right;\">\n",
       "      <th></th>\n",
       "      <th>Unnamed: 0</th>\n",
       "      <th>match_id</th>\n",
       "      <th>batting_team</th>\n",
       "      <th>bowling_team</th>\n",
       "      <th>ball</th>\n",
       "      <th>runs</th>\n",
       "      <th>player_dismissed</th>\n",
       "      <th>city</th>\n",
       "      <th>venue</th>\n",
       "    </tr>\n",
       "  </thead>\n",
       "  <tbody>\n",
       "    <tr>\n",
       "      <th>0</th>\n",
       "      <td>0</td>\n",
       "      <td>2</td>\n",
       "      <td>Australia</td>\n",
       "      <td>Sri Lanka</td>\n",
       "      <td>0.1</td>\n",
       "      <td>0</td>\n",
       "      <td>0</td>\n",
       "      <td>NaN</td>\n",
       "      <td>Melbourne Cricket Ground</td>\n",
       "    </tr>\n",
       "    <tr>\n",
       "      <th>1</th>\n",
       "      <td>1</td>\n",
       "      <td>2</td>\n",
       "      <td>Australia</td>\n",
       "      <td>Sri Lanka</td>\n",
       "      <td>0.2</td>\n",
       "      <td>0</td>\n",
       "      <td>0</td>\n",
       "      <td>NaN</td>\n",
       "      <td>Melbourne Cricket Ground</td>\n",
       "    </tr>\n",
       "    <tr>\n",
       "      <th>2</th>\n",
       "      <td>2</td>\n",
       "      <td>2</td>\n",
       "      <td>Australia</td>\n",
       "      <td>Sri Lanka</td>\n",
       "      <td>0.3</td>\n",
       "      <td>1</td>\n",
       "      <td>0</td>\n",
       "      <td>NaN</td>\n",
       "      <td>Melbourne Cricket Ground</td>\n",
       "    </tr>\n",
       "    <tr>\n",
       "      <th>3</th>\n",
       "      <td>3</td>\n",
       "      <td>2</td>\n",
       "      <td>Australia</td>\n",
       "      <td>Sri Lanka</td>\n",
       "      <td>0.4</td>\n",
       "      <td>2</td>\n",
       "      <td>0</td>\n",
       "      <td>NaN</td>\n",
       "      <td>Melbourne Cricket Ground</td>\n",
       "    </tr>\n",
       "    <tr>\n",
       "      <th>4</th>\n",
       "      <td>4</td>\n",
       "      <td>2</td>\n",
       "      <td>Australia</td>\n",
       "      <td>Sri Lanka</td>\n",
       "      <td>0.5</td>\n",
       "      <td>0</td>\n",
       "      <td>0</td>\n",
       "      <td>NaN</td>\n",
       "      <td>Melbourne Cricket Ground</td>\n",
       "    </tr>\n",
       "  </tbody>\n",
       "</table>\n",
       "</div>"
      ],
      "text/plain": [
       "   Unnamed: 0  match_id batting_team bowling_team  ball  runs  \\\n",
       "0           0         2    Australia    Sri Lanka   0.1     0   \n",
       "1           1         2    Australia    Sri Lanka   0.2     0   \n",
       "2           2         2    Australia    Sri Lanka   0.3     1   \n",
       "3           3         2    Australia    Sri Lanka   0.4     2   \n",
       "4           4         2    Australia    Sri Lanka   0.5     0   \n",
       "\n",
       "  player_dismissed city                     venue  \n",
       "0                0  NaN  Melbourne Cricket Ground  \n",
       "1                0  NaN  Melbourne Cricket Ground  \n",
       "2                0  NaN  Melbourne Cricket Ground  \n",
       "3                0  NaN  Melbourne Cricket Ground  \n",
       "4                0  NaN  Melbourne Cricket Ground  "
      ]
     },
     "execution_count": 3,
     "metadata": {},
     "output_type": "execute_result"
    }
   ],
   "source": [
    "df.head()"
   ]
  },
  {
   "cell_type": "code",
   "execution_count": 4,
   "id": "61696b9d",
   "metadata": {},
   "outputs": [
    {
     "name": "stdout",
     "output_type": "stream",
     "text": [
      "<class 'pandas.core.frame.DataFrame'>\n",
      "RangeIndex: 63888 entries, 0 to 63887\n",
      "Data columns (total 9 columns):\n",
      " #   Column            Non-Null Count  Dtype  \n",
      "---  ------            --------------  -----  \n",
      " 0   Unnamed: 0        63888 non-null  int64  \n",
      " 1   match_id          63888 non-null  int64  \n",
      " 2   batting_team      63888 non-null  object \n",
      " 3   bowling_team      63888 non-null  object \n",
      " 4   ball              63888 non-null  float64\n",
      " 5   runs              63888 non-null  int64  \n",
      " 6   player_dismissed  63888 non-null  object \n",
      " 7   city              55340 non-null  object \n",
      " 8   venue             63888 non-null  object \n",
      "dtypes: float64(1), int64(3), object(5)\n",
      "memory usage: 4.4+ MB\n"
     ]
    }
   ],
   "source": [
    "df.info()"
   ]
  },
  {
   "cell_type": "code",
   "execution_count": 5,
   "id": "547b682c",
   "metadata": {},
   "outputs": [
    {
     "data": {
      "text/plain": [
       "array([  2,   3,   4,   9,  10,  11,  12,  13,  14,  15,  16,  17,  18,\n",
       "        19,  23,  24,  25,  26,  27,  31,  32,  33,  34,  35,  36,  37,\n",
       "        50,  51,  52,  53,  54,  55,  56,  57,  61,  62,  63,  64,  65,\n",
       "        66,  67,  68,  69,  70,  71,  75,  77,  78,  79,  80,  81,  82,\n",
       "        83,  84,  85,  86,  87,  88,  89,  90,  91,  92,  95,  96,  97,\n",
       "        98,  99, 100, 101, 102, 103, 106, 107, 108, 120, 122, 125, 127,\n",
       "       130, 131, 132, 133, 134, 135, 136, 137, 138, 139, 140, 141, 142,\n",
       "       143, 144, 147, 148, 149, 150, 152, 153, 154, 155, 156, 157, 158,\n",
       "       159, 160, 161, 162, 163, 164, 165, 166, 171, 172, 193, 194, 195,\n",
       "       196, 197, 198, 219, 220, 221, 222, 223, 224, 230, 231, 232, 233,\n",
       "       234, 235, 236, 237, 238, 239, 240, 241, 242, 243, 244, 245, 246,\n",
       "       247, 250, 251, 252, 268, 270, 271, 272, 273, 276, 279, 304, 305,\n",
       "       306, 307, 308, 309, 310, 311, 312, 383, 384, 394, 395, 421, 422,\n",
       "       423, 431, 432, 433, 434, 435, 436, 440, 441, 442, 443, 445, 446,\n",
       "       447, 448, 449, 450, 451, 452, 453, 454, 455, 456, 457, 461, 464,\n",
       "       465, 466, 467, 468, 469, 470, 471, 472, 473, 474, 475, 476, 477,\n",
       "       478, 479, 480, 481, 482, 483, 484, 485, 486, 487, 488, 489, 490,\n",
       "       492, 494, 495, 496, 497, 498, 499, 500, 501, 502, 503, 504, 508,\n",
       "       509, 511, 513, 515, 517, 519, 520, 521, 522, 523, 525, 526, 528,\n",
       "       529, 530, 531, 532, 535, 536, 537, 538, 539, 540, 541, 542, 543,\n",
       "       544, 545, 546, 547, 548, 549, 550, 551, 553, 554, 555, 557, 558,\n",
       "       560, 562, 563, 564, 565, 566, 567, 568, 569, 570, 571, 572, 573,\n",
       "       574, 575, 576, 577, 578, 579, 580, 581, 582, 583, 584, 586, 587,\n",
       "       588, 589, 591, 599, 600, 601, 602, 603, 604, 607, 608, 609, 612,\n",
       "       613, 614, 615, 616, 617, 618, 619, 620, 621, 622, 623, 624, 625,\n",
       "       626, 629, 630, 631, 632, 635, 636, 639, 640, 641, 642, 643, 646,\n",
       "       648, 649, 650, 651, 652, 653, 655, 656, 657, 658, 659, 660, 661,\n",
       "       662, 663, 664, 665, 666, 667, 668, 669, 670, 671, 672, 673, 674,\n",
       "       675, 676, 677, 690, 691, 692, 693, 694, 695, 696, 697, 698, 699,\n",
       "       700, 701, 702, 705, 706, 707, 708, 709, 710, 711, 712, 713, 714,\n",
       "       715, 716, 717, 719, 720, 721, 722, 730, 734, 735, 736, 737, 738,\n",
       "       739, 740, 741, 742, 743, 744, 745, 746, 747, 748, 750, 751, 752,\n",
       "       765, 766, 769, 770, 771, 772, 773, 785, 786, 787, 788, 789, 790,\n",
       "       792, 794, 795, 796, 798, 799, 800, 802, 803, 804, 805, 806, 807,\n",
       "       808, 809, 810, 811, 814, 815, 816, 817, 818, 819, 820, 821, 822,\n",
       "       823, 824, 825, 826, 827, 828, 829, 831, 832, 833, 834, 835, 836,\n",
       "       837, 858, 859, 860, 864, 865, 866, 867, 868, 869, 870, 871, 872,\n",
       "       873, 874, 875, 876, 877, 878, 879, 880, 892, 893, 894, 906, 907,\n",
       "       908, 909, 910, 911, 912, 913, 914, 915, 916, 917, 918, 919, 920,\n",
       "       921, 922, 923, 924, 925, 926, 927, 928, 941, 942, 943, 951, 954,\n",
       "       955, 957, 958, 960, 961, 963, 964], dtype=int64)"
      ]
     },
     "execution_count": 5,
     "metadata": {},
     "output_type": "execute_result"
    }
   ],
   "source": [
    "df['match_id'].unique()"
   ]
  },
  {
   "cell_type": "code",
   "execution_count": 6,
   "id": "27347d3b",
   "metadata": {},
   "outputs": [
    {
     "data": {
      "text/plain": [
       "'Melbourne'"
      ]
     },
     "execution_count": 6,
     "metadata": {},
     "output_type": "execute_result"
    }
   ],
   "source": [
    "df[df['city'].isnull()]['venue'][0].split(' ')[0]"
   ]
  },
  {
   "cell_type": "code",
   "execution_count": 7,
   "id": "a18663a9",
   "metadata": {},
   "outputs": [
    {
     "data": {
      "text/plain": [
       "array(['Australia', 'Bangladesh', 'New Zealand', 'South Africa',\n",
       "       'England', 'West Indies', 'India', 'Pakistan', 'Afghanistan',\n",
       "       'Sri Lanka'], dtype=object)"
      ]
     },
     "execution_count": 7,
     "metadata": {},
     "output_type": "execute_result"
    }
   ],
   "source": [
    "df['batting_team'].unique()"
   ]
  },
  {
   "cell_type": "code",
   "execution_count": 8,
   "id": "9ac6d530",
   "metadata": {},
   "outputs": [],
   "source": [
    "cricket_ground = np.where(df['city'].isnull(), df['venue'].str.split().apply(lambda x : x[0]), df['city'])"
   ]
  },
  {
   "cell_type": "code",
   "execution_count": 9,
   "id": "1f976cc4",
   "metadata": {},
   "outputs": [],
   "source": [
    "df['city'] = cricket_ground"
   ]
  },
  {
   "cell_type": "code",
   "execution_count": 10,
   "id": "3eb354f1",
   "metadata": {},
   "outputs": [],
   "source": [
    "eligible_cities = df['city'].value_counts()[df['city'].value_counts() > 600].index.tolist()"
   ]
  },
  {
   "cell_type": "code",
   "execution_count": 11,
   "id": "a90bfff1",
   "metadata": {},
   "outputs": [],
   "source": [
    "df = df[df['city'].isin(eligible_cities)]"
   ]
  },
  {
   "cell_type": "code",
   "execution_count": 12,
   "id": "4305f9a7",
   "metadata": {},
   "outputs": [],
   "source": [
    "df['current_score'] = df.groupby('match_id').cumsum()['runs']"
   ]
  },
  {
   "cell_type": "code",
   "execution_count": 13,
   "id": "bd6a579f",
   "metadata": {},
   "outputs": [],
   "source": [
    "df['over'] = df['ball'].apply(lambda x : str(x).split(\".\")[0])\n",
    "df['ball_no'] = df['ball'].apply(lambda x : str(x).split(\".\")[1])"
   ]
  },
  {
   "cell_type": "code",
   "execution_count": 14,
   "id": "660722b2",
   "metadata": {},
   "outputs": [],
   "source": [
    "df['balls_bowled'] = (df['over'].astype('int')*6 + df['ball_no'].astype('int'))"
   ]
  },
  {
   "cell_type": "code",
   "execution_count": 15,
   "id": "487fc860",
   "metadata": {},
   "outputs": [],
   "source": [
    "df['balls_left'] = 120 - df['balls_bowled']"
   ]
  },
  {
   "cell_type": "code",
   "execution_count": 16,
   "id": "5474e6b0",
   "metadata": {},
   "outputs": [],
   "source": [
    "# removing outliers:\n",
    "df['balls_left'] = df['balls_left'].apply(lambda x: 0 if x < 0 else x)"
   ]
  },
  {
   "cell_type": "code",
   "execution_count": 17,
   "id": "dfdf592a",
   "metadata": {},
   "outputs": [
    {
     "data": {
      "text/plain": [
       "0        0\n",
       "1        0\n",
       "2        0\n",
       "3        0\n",
       "4        0\n",
       "        ..\n",
       "63883    0\n",
       "63884    0\n",
       "63885    1\n",
       "63886    0\n",
       "63887    0\n",
       "Name: player_dismissed, Length: 50501, dtype: object"
      ]
     },
     "execution_count": 17,
     "metadata": {},
     "output_type": "execute_result"
    }
   ],
   "source": [
    "df['player_dismissed'].apply(lambda x: 1 if x != '0' else '0')"
   ]
  },
  {
   "cell_type": "code",
   "execution_count": 18,
   "id": "b3efee5e",
   "metadata": {},
   "outputs": [],
   "source": [
    "df['wicket_taken'] = df['player_dismissed'].apply(lambda x: 1 if x != '0' else 0)"
   ]
  },
  {
   "cell_type": "code",
   "execution_count": 19,
   "id": "3f9f562e",
   "metadata": {},
   "outputs": [],
   "source": [
    "df['wicket_taken'] = df['wicket_taken'].astype('int')"
   ]
  },
  {
   "cell_type": "code",
   "execution_count": 20,
   "id": "ad63fdee",
   "metadata": {},
   "outputs": [],
   "source": [
    "df['wicket_taken'] = df.groupby('match_id').cumsum()['wicket_taken']"
   ]
  },
  {
   "cell_type": "code",
   "execution_count": 21,
   "id": "215f181a",
   "metadata": {},
   "outputs": [],
   "source": [
    "df['wickets_left'] = 10 - df['wicket_taken']"
   ]
  },
  {
   "cell_type": "code",
   "execution_count": 22,
   "id": "730d8c6d",
   "metadata": {},
   "outputs": [],
   "source": [
    "df['current_runrate'] = (df['current_score']*6) / df['balls_bowled']"
   ]
  },
  {
   "cell_type": "code",
   "execution_count": 23,
   "id": "4e583781",
   "metadata": {},
   "outputs": [
    {
     "name": "stderr",
     "output_type": "stream",
     "text": [
      "C:\\Users\\Deepali Thakur\\AppData\\Local\\Temp\\ipykernel_16960\\3055083752.py:6: FutureWarning: Dropping of nuisance columns in rolling operations is deprecated; in a future version this will raise TypeError. Select only valid columns before calling the operation. Dropped columns were Index(['batting_team', 'bowling_team', 'city', 'player_dismissed', 'venue'], dtype='object')\n",
      "  last_five.extend(groups.get_group(id).rolling(window=30).sum()['runs'].values.tolist())\n",
      "C:\\Users\\Deepali Thakur\\AppData\\Local\\Temp\\ipykernel_16960\\3055083752.py:6: FutureWarning: Dropping of nuisance columns in rolling operations is deprecated; in a future version this will raise TypeError. Select only valid columns before calling the operation. Dropped columns were Index(['batting_team', 'bowling_team', 'city', 'venue'], dtype='object')\n",
      "  last_five.extend(groups.get_group(id).rolling(window=30).sum()['runs'].values.tolist())\n"
     ]
    }
   ],
   "source": [
    "groups = df.groupby('match_id')\n",
    "\n",
    "match_ids = df['match_id'].unique()\n",
    "last_five = []\n",
    "for id in match_ids:\n",
    "    last_five.extend(groups.get_group(id).rolling(window=30).sum()['runs'].values.tolist())"
   ]
  },
  {
   "cell_type": "code",
   "execution_count": 24,
   "id": "e045bd57",
   "metadata": {},
   "outputs": [],
   "source": [
    "df['last_five'] = last_five"
   ]
  },
  {
   "cell_type": "code",
   "execution_count": 25,
   "id": "beec90dd",
   "metadata": {},
   "outputs": [],
   "source": [
    "df = df.groupby('match_id').sum()['runs'].reset_index().merge(df,on='match_id')"
   ]
  },
  {
   "cell_type": "code",
   "execution_count": 26,
   "id": "4ab941cf",
   "metadata": {},
   "outputs": [],
   "source": [
    "df= df[['batting_team','bowling_team','city','current_score','balls_left','wickets_left','current_runrate','last_five','runs_x']]"
   ]
  },
  {
   "cell_type": "code",
   "execution_count": 27,
   "id": "22000af0",
   "metadata": {},
   "outputs": [],
   "source": [
    "df.dropna(inplace=True)"
   ]
  },
  {
   "cell_type": "code",
   "execution_count": 28,
   "id": "f3f91ea5",
   "metadata": {},
   "outputs": [
    {
     "data": {
      "text/html": [
       "<div>\n",
       "<style scoped>\n",
       "    .dataframe tbody tr th:only-of-type {\n",
       "        vertical-align: middle;\n",
       "    }\n",
       "\n",
       "    .dataframe tbody tr th {\n",
       "        vertical-align: top;\n",
       "    }\n",
       "\n",
       "    .dataframe thead th {\n",
       "        text-align: right;\n",
       "    }\n",
       "</style>\n",
       "<table border=\"1\" class=\"dataframe\">\n",
       "  <thead>\n",
       "    <tr style=\"text-align: right;\">\n",
       "      <th></th>\n",
       "      <th>batting_team</th>\n",
       "      <th>bowling_team</th>\n",
       "      <th>city</th>\n",
       "      <th>current_score</th>\n",
       "      <th>balls_left</th>\n",
       "      <th>wickets_left</th>\n",
       "      <th>current_runrate</th>\n",
       "      <th>last_five</th>\n",
       "      <th>runs_x</th>\n",
       "    </tr>\n",
       "  </thead>\n",
       "  <tbody>\n",
       "    <tr>\n",
       "      <th>29</th>\n",
       "      <td>Australia</td>\n",
       "      <td>Sri Lanka</td>\n",
       "      <td>Melbourne</td>\n",
       "      <td>43</td>\n",
       "      <td>90</td>\n",
       "      <td>10</td>\n",
       "      <td>8.600000</td>\n",
       "      <td>43.0</td>\n",
       "      <td>168</td>\n",
       "    </tr>\n",
       "    <tr>\n",
       "      <th>30</th>\n",
       "      <td>Australia</td>\n",
       "      <td>Sri Lanka</td>\n",
       "      <td>Melbourne</td>\n",
       "      <td>44</td>\n",
       "      <td>89</td>\n",
       "      <td>10</td>\n",
       "      <td>8.516129</td>\n",
       "      <td>44.0</td>\n",
       "      <td>168</td>\n",
       "    </tr>\n",
       "    <tr>\n",
       "      <th>31</th>\n",
       "      <td>Australia</td>\n",
       "      <td>Sri Lanka</td>\n",
       "      <td>Melbourne</td>\n",
       "      <td>45</td>\n",
       "      <td>88</td>\n",
       "      <td>10</td>\n",
       "      <td>8.437500</td>\n",
       "      <td>45.0</td>\n",
       "      <td>168</td>\n",
       "    </tr>\n",
       "    <tr>\n",
       "      <th>32</th>\n",
       "      <td>Australia</td>\n",
       "      <td>Sri Lanka</td>\n",
       "      <td>Melbourne</td>\n",
       "      <td>45</td>\n",
       "      <td>87</td>\n",
       "      <td>10</td>\n",
       "      <td>8.181818</td>\n",
       "      <td>44.0</td>\n",
       "      <td>168</td>\n",
       "    </tr>\n",
       "    <tr>\n",
       "      <th>33</th>\n",
       "      <td>Australia</td>\n",
       "      <td>Sri Lanka</td>\n",
       "      <td>Melbourne</td>\n",
       "      <td>45</td>\n",
       "      <td>86</td>\n",
       "      <td>10</td>\n",
       "      <td>7.941176</td>\n",
       "      <td>42.0</td>\n",
       "      <td>168</td>\n",
       "    </tr>\n",
       "    <tr>\n",
       "      <th>...</th>\n",
       "      <td>...</td>\n",
       "      <td>...</td>\n",
       "      <td>...</td>\n",
       "      <td>...</td>\n",
       "      <td>...</td>\n",
       "      <td>...</td>\n",
       "      <td>...</td>\n",
       "      <td>...</td>\n",
       "      <td>...</td>\n",
       "    </tr>\n",
       "    <tr>\n",
       "      <th>50496</th>\n",
       "      <td>Sri Lanka</td>\n",
       "      <td>Australia</td>\n",
       "      <td>Colombo</td>\n",
       "      <td>125</td>\n",
       "      <td>3</td>\n",
       "      <td>2</td>\n",
       "      <td>6.410256</td>\n",
       "      <td>32.0</td>\n",
       "      <td>128</td>\n",
       "    </tr>\n",
       "    <tr>\n",
       "      <th>50497</th>\n",
       "      <td>Sri Lanka</td>\n",
       "      <td>Australia</td>\n",
       "      <td>Colombo</td>\n",
       "      <td>125</td>\n",
       "      <td>2</td>\n",
       "      <td>2</td>\n",
       "      <td>6.355932</td>\n",
       "      <td>32.0</td>\n",
       "      <td>128</td>\n",
       "    </tr>\n",
       "    <tr>\n",
       "      <th>50498</th>\n",
       "      <td>Sri Lanka</td>\n",
       "      <td>Australia</td>\n",
       "      <td>Colombo</td>\n",
       "      <td>125</td>\n",
       "      <td>1</td>\n",
       "      <td>1</td>\n",
       "      <td>6.302521</td>\n",
       "      <td>32.0</td>\n",
       "      <td>128</td>\n",
       "    </tr>\n",
       "    <tr>\n",
       "      <th>50499</th>\n",
       "      <td>Sri Lanka</td>\n",
       "      <td>Australia</td>\n",
       "      <td>Colombo</td>\n",
       "      <td>127</td>\n",
       "      <td>0</td>\n",
       "      <td>1</td>\n",
       "      <td>6.350000</td>\n",
       "      <td>33.0</td>\n",
       "      <td>128</td>\n",
       "    </tr>\n",
       "    <tr>\n",
       "      <th>50500</th>\n",
       "      <td>Sri Lanka</td>\n",
       "      <td>Australia</td>\n",
       "      <td>Colombo</td>\n",
       "      <td>128</td>\n",
       "      <td>0</td>\n",
       "      <td>1</td>\n",
       "      <td>6.347107</td>\n",
       "      <td>32.0</td>\n",
       "      <td>128</td>\n",
       "    </tr>\n",
       "  </tbody>\n",
       "</table>\n",
       "<p>38477 rows × 9 columns</p>\n",
       "</div>"
      ],
      "text/plain": [
       "      batting_team bowling_team       city  current_score  balls_left  \\\n",
       "29       Australia    Sri Lanka  Melbourne             43          90   \n",
       "30       Australia    Sri Lanka  Melbourne             44          89   \n",
       "31       Australia    Sri Lanka  Melbourne             45          88   \n",
       "32       Australia    Sri Lanka  Melbourne             45          87   \n",
       "33       Australia    Sri Lanka  Melbourne             45          86   \n",
       "...            ...          ...        ...            ...         ...   \n",
       "50496    Sri Lanka    Australia    Colombo            125           3   \n",
       "50497    Sri Lanka    Australia    Colombo            125           2   \n",
       "50498    Sri Lanka    Australia    Colombo            125           1   \n",
       "50499    Sri Lanka    Australia    Colombo            127           0   \n",
       "50500    Sri Lanka    Australia    Colombo            128           0   \n",
       "\n",
       "       wickets_left  current_runrate  last_five  runs_x  \n",
       "29               10         8.600000       43.0     168  \n",
       "30               10         8.516129       44.0     168  \n",
       "31               10         8.437500       45.0     168  \n",
       "32               10         8.181818       44.0     168  \n",
       "33               10         7.941176       42.0     168  \n",
       "...             ...              ...        ...     ...  \n",
       "50496             2         6.410256       32.0     128  \n",
       "50497             2         6.355932       32.0     128  \n",
       "50498             1         6.302521       32.0     128  \n",
       "50499             1         6.350000       33.0     128  \n",
       "50500             1         6.347107       32.0     128  \n",
       "\n",
       "[38477 rows x 9 columns]"
      ]
     },
     "execution_count": 28,
     "metadata": {},
     "output_type": "execute_result"
    }
   ],
   "source": [
    "df"
   ]
  },
  {
   "cell_type": "code",
   "execution_count": 29,
   "id": "155e2ef7",
   "metadata": {},
   "outputs": [],
   "source": [
    "df = df.sample(df.shape[0])"
   ]
  },
  {
   "cell_type": "code",
   "execution_count": 30,
   "id": "60340ca8",
   "metadata": {},
   "outputs": [],
   "source": [
    "# --- Data Preprocessing ---\n",
    "# Converting categorical features using OneHotEncoding method\n",
    "encoded_df = pd.get_dummies(data=df, columns=['batting_team', 'bowling_team','city'])"
   ]
  },
  {
   "cell_type": "code",
   "execution_count": 31,
   "id": "c1b2c906",
   "metadata": {},
   "outputs": [
    {
     "data": {
      "text/html": [
       "<div>\n",
       "<style scoped>\n",
       "    .dataframe tbody tr th:only-of-type {\n",
       "        vertical-align: middle;\n",
       "    }\n",
       "\n",
       "    .dataframe tbody tr th {\n",
       "        vertical-align: top;\n",
       "    }\n",
       "\n",
       "    .dataframe thead th {\n",
       "        text-align: right;\n",
       "    }\n",
       "</style>\n",
       "<table border=\"1\" class=\"dataframe\">\n",
       "  <thead>\n",
       "    <tr style=\"text-align: right;\">\n",
       "      <th></th>\n",
       "      <th>current_score</th>\n",
       "      <th>balls_left</th>\n",
       "      <th>wickets_left</th>\n",
       "      <th>current_runrate</th>\n",
       "      <th>last_five</th>\n",
       "      <th>runs_x</th>\n",
       "      <th>batting_team_Afghanistan</th>\n",
       "      <th>batting_team_Australia</th>\n",
       "      <th>batting_team_Bangladesh</th>\n",
       "      <th>batting_team_England</th>\n",
       "      <th>...</th>\n",
       "      <th>city_Mumbai</th>\n",
       "      <th>city_Nagpur</th>\n",
       "      <th>city_Nottingham</th>\n",
       "      <th>city_Pallekele</th>\n",
       "      <th>city_Southampton</th>\n",
       "      <th>city_St Kitts</th>\n",
       "      <th>city_St Lucia</th>\n",
       "      <th>city_Sydney</th>\n",
       "      <th>city_Trinidad</th>\n",
       "      <th>city_Wellington</th>\n",
       "    </tr>\n",
       "  </thead>\n",
       "  <tbody>\n",
       "    <tr>\n",
       "      <th>33494</th>\n",
       "      <td>36</td>\n",
       "      <td>88</td>\n",
       "      <td>8</td>\n",
       "      <td>6.750000</td>\n",
       "      <td>32.0</td>\n",
       "      <td>152</td>\n",
       "      <td>0</td>\n",
       "      <td>0</td>\n",
       "      <td>0</td>\n",
       "      <td>0</td>\n",
       "      <td>...</td>\n",
       "      <td>0</td>\n",
       "      <td>0</td>\n",
       "      <td>0</td>\n",
       "      <td>0</td>\n",
       "      <td>0</td>\n",
       "      <td>0</td>\n",
       "      <td>0</td>\n",
       "      <td>0</td>\n",
       "      <td>0</td>\n",
       "      <td>0</td>\n",
       "    </tr>\n",
       "    <tr>\n",
       "      <th>12377</th>\n",
       "      <td>109</td>\n",
       "      <td>47</td>\n",
       "      <td>8</td>\n",
       "      <td>8.958904</td>\n",
       "      <td>47.0</td>\n",
       "      <td>190</td>\n",
       "      <td>0</td>\n",
       "      <td>0</td>\n",
       "      <td>0</td>\n",
       "      <td>0</td>\n",
       "      <td>...</td>\n",
       "      <td>0</td>\n",
       "      <td>0</td>\n",
       "      <td>0</td>\n",
       "      <td>0</td>\n",
       "      <td>0</td>\n",
       "      <td>0</td>\n",
       "      <td>0</td>\n",
       "      <td>0</td>\n",
       "      <td>0</td>\n",
       "      <td>0</td>\n",
       "    </tr>\n",
       "    <tr>\n",
       "      <th>19994</th>\n",
       "      <td>133</td>\n",
       "      <td>22</td>\n",
       "      <td>8</td>\n",
       "      <td>8.142857</td>\n",
       "      <td>43.0</td>\n",
       "      <td>180</td>\n",
       "      <td>0</td>\n",
       "      <td>0</td>\n",
       "      <td>0</td>\n",
       "      <td>0</td>\n",
       "      <td>...</td>\n",
       "      <td>0</td>\n",
       "      <td>0</td>\n",
       "      <td>1</td>\n",
       "      <td>0</td>\n",
       "      <td>0</td>\n",
       "      <td>0</td>\n",
       "      <td>0</td>\n",
       "      <td>0</td>\n",
       "      <td>0</td>\n",
       "      <td>0</td>\n",
       "    </tr>\n",
       "    <tr>\n",
       "      <th>25567</th>\n",
       "      <td>142</td>\n",
       "      <td>7</td>\n",
       "      <td>4</td>\n",
       "      <td>7.539823</td>\n",
       "      <td>41.0</td>\n",
       "      <td>148</td>\n",
       "      <td>0</td>\n",
       "      <td>0</td>\n",
       "      <td>0</td>\n",
       "      <td>0</td>\n",
       "      <td>...</td>\n",
       "      <td>0</td>\n",
       "      <td>0</td>\n",
       "      <td>0</td>\n",
       "      <td>0</td>\n",
       "      <td>0</td>\n",
       "      <td>0</td>\n",
       "      <td>1</td>\n",
       "      <td>0</td>\n",
       "      <td>0</td>\n",
       "      <td>0</td>\n",
       "    </tr>\n",
       "    <tr>\n",
       "      <th>44488</th>\n",
       "      <td>75</td>\n",
       "      <td>76</td>\n",
       "      <td>9</td>\n",
       "      <td>10.227273</td>\n",
       "      <td>55.0</td>\n",
       "      <td>204</td>\n",
       "      <td>0</td>\n",
       "      <td>0</td>\n",
       "      <td>0</td>\n",
       "      <td>0</td>\n",
       "      <td>...</td>\n",
       "      <td>0</td>\n",
       "      <td>0</td>\n",
       "      <td>0</td>\n",
       "      <td>0</td>\n",
       "      <td>0</td>\n",
       "      <td>0</td>\n",
       "      <td>0</td>\n",
       "      <td>0</td>\n",
       "      <td>0</td>\n",
       "      <td>0</td>\n",
       "    </tr>\n",
       "    <tr>\n",
       "      <th>1921</th>\n",
       "      <td>66</td>\n",
       "      <td>61</td>\n",
       "      <td>7</td>\n",
       "      <td>6.711864</td>\n",
       "      <td>31.0</td>\n",
       "      <td>137</td>\n",
       "      <td>0</td>\n",
       "      <td>0</td>\n",
       "      <td>0</td>\n",
       "      <td>1</td>\n",
       "      <td>...</td>\n",
       "      <td>0</td>\n",
       "      <td>0</td>\n",
       "      <td>0</td>\n",
       "      <td>0</td>\n",
       "      <td>0</td>\n",
       "      <td>0</td>\n",
       "      <td>0</td>\n",
       "      <td>0</td>\n",
       "      <td>0</td>\n",
       "      <td>0</td>\n",
       "    </tr>\n",
       "    <tr>\n",
       "      <th>48129</th>\n",
       "      <td>48</td>\n",
       "      <td>75</td>\n",
       "      <td>8</td>\n",
       "      <td>6.400000</td>\n",
       "      <td>33.0</td>\n",
       "      <td>146</td>\n",
       "      <td>0</td>\n",
       "      <td>0</td>\n",
       "      <td>0</td>\n",
       "      <td>0</td>\n",
       "      <td>...</td>\n",
       "      <td>0</td>\n",
       "      <td>0</td>\n",
       "      <td>0</td>\n",
       "      <td>0</td>\n",
       "      <td>0</td>\n",
       "      <td>0</td>\n",
       "      <td>0</td>\n",
       "      <td>0</td>\n",
       "      <td>0</td>\n",
       "      <td>0</td>\n",
       "    </tr>\n",
       "    <tr>\n",
       "      <th>1067</th>\n",
       "      <td>113</td>\n",
       "      <td>42</td>\n",
       "      <td>8</td>\n",
       "      <td>8.692308</td>\n",
       "      <td>46.0</td>\n",
       "      <td>202</td>\n",
       "      <td>0</td>\n",
       "      <td>0</td>\n",
       "      <td>0</td>\n",
       "      <td>0</td>\n",
       "      <td>...</td>\n",
       "      <td>0</td>\n",
       "      <td>0</td>\n",
       "      <td>0</td>\n",
       "      <td>0</td>\n",
       "      <td>0</td>\n",
       "      <td>0</td>\n",
       "      <td>0</td>\n",
       "      <td>0</td>\n",
       "      <td>0</td>\n",
       "      <td>0</td>\n",
       "    </tr>\n",
       "    <tr>\n",
       "      <th>50154</th>\n",
       "      <td>145</td>\n",
       "      <td>4</td>\n",
       "      <td>6</td>\n",
       "      <td>7.500000</td>\n",
       "      <td>33.0</td>\n",
       "      <td>150</td>\n",
       "      <td>0</td>\n",
       "      <td>0</td>\n",
       "      <td>0</td>\n",
       "      <td>0</td>\n",
       "      <td>...</td>\n",
       "      <td>0</td>\n",
       "      <td>0</td>\n",
       "      <td>0</td>\n",
       "      <td>0</td>\n",
       "      <td>0</td>\n",
       "      <td>0</td>\n",
       "      <td>0</td>\n",
       "      <td>0</td>\n",
       "      <td>0</td>\n",
       "      <td>0</td>\n",
       "    </tr>\n",
       "    <tr>\n",
       "      <th>6073</th>\n",
       "      <td>107</td>\n",
       "      <td>33</td>\n",
       "      <td>9</td>\n",
       "      <td>7.379310</td>\n",
       "      <td>38.0</td>\n",
       "      <td>176</td>\n",
       "      <td>0</td>\n",
       "      <td>0</td>\n",
       "      <td>0</td>\n",
       "      <td>0</td>\n",
       "      <td>...</td>\n",
       "      <td>0</td>\n",
       "      <td>0</td>\n",
       "      <td>0</td>\n",
       "      <td>0</td>\n",
       "      <td>0</td>\n",
       "      <td>0</td>\n",
       "      <td>0</td>\n",
       "      <td>0</td>\n",
       "      <td>0</td>\n",
       "      <td>0</td>\n",
       "    </tr>\n",
       "  </tbody>\n",
       "</table>\n",
       "<p>10 rows × 61 columns</p>\n",
       "</div>"
      ],
      "text/plain": [
       "       current_score  balls_left  wickets_left  current_runrate  last_five  \\\n",
       "33494             36          88             8         6.750000       32.0   \n",
       "12377            109          47             8         8.958904       47.0   \n",
       "19994            133          22             8         8.142857       43.0   \n",
       "25567            142           7             4         7.539823       41.0   \n",
       "44488             75          76             9        10.227273       55.0   \n",
       "1921              66          61             7         6.711864       31.0   \n",
       "48129             48          75             8         6.400000       33.0   \n",
       "1067             113          42             8         8.692308       46.0   \n",
       "50154            145           4             6         7.500000       33.0   \n",
       "6073             107          33             9         7.379310       38.0   \n",
       "\n",
       "       runs_x  batting_team_Afghanistan  batting_team_Australia  \\\n",
       "33494     152                         0                       0   \n",
       "12377     190                         0                       0   \n",
       "19994     180                         0                       0   \n",
       "25567     148                         0                       0   \n",
       "44488     204                         0                       0   \n",
       "1921      137                         0                       0   \n",
       "48129     146                         0                       0   \n",
       "1067      202                         0                       0   \n",
       "50154     150                         0                       0   \n",
       "6073      176                         0                       0   \n",
       "\n",
       "       batting_team_Bangladesh  batting_team_England  ...  city_Mumbai  \\\n",
       "33494                        0                     0  ...            0   \n",
       "12377                        0                     0  ...            0   \n",
       "19994                        0                     0  ...            0   \n",
       "25567                        0                     0  ...            0   \n",
       "44488                        0                     0  ...            0   \n",
       "1921                         0                     1  ...            0   \n",
       "48129                        0                     0  ...            0   \n",
       "1067                         0                     0  ...            0   \n",
       "50154                        0                     0  ...            0   \n",
       "6073                         0                     0  ...            0   \n",
       "\n",
       "       city_Nagpur  city_Nottingham  city_Pallekele  city_Southampton  \\\n",
       "33494            0                0               0                 0   \n",
       "12377            0                0               0                 0   \n",
       "19994            0                1               0                 0   \n",
       "25567            0                0               0                 0   \n",
       "44488            0                0               0                 0   \n",
       "1921             0                0               0                 0   \n",
       "48129            0                0               0                 0   \n",
       "1067             0                0               0                 0   \n",
       "50154            0                0               0                 0   \n",
       "6073             0                0               0                 0   \n",
       "\n",
       "       city_St Kitts  city_St Lucia  city_Sydney  city_Trinidad  \\\n",
       "33494              0              0            0              0   \n",
       "12377              0              0            0              0   \n",
       "19994              0              0            0              0   \n",
       "25567              0              1            0              0   \n",
       "44488              0              0            0              0   \n",
       "1921               0              0            0              0   \n",
       "48129              0              0            0              0   \n",
       "1067               0              0            0              0   \n",
       "50154              0              0            0              0   \n",
       "6073               0              0            0              0   \n",
       "\n",
       "       city_Wellington  \n",
       "33494                0  \n",
       "12377                0  \n",
       "19994                0  \n",
       "25567                0  \n",
       "44488                0  \n",
       "1921                 0  \n",
       "48129                0  \n",
       "1067                 0  \n",
       "50154                0  \n",
       "6073                 0  \n",
       "\n",
       "[10 rows x 61 columns]"
      ]
     },
     "execution_count": 31,
     "metadata": {},
     "output_type": "execute_result"
    }
   ],
   "source": [
    "encoded_df.head(10)"
   ]
  },
  {
   "cell_type": "code",
   "execution_count": 32,
   "id": "0bcf3fed",
   "metadata": {},
   "outputs": [
    {
     "data": {
      "text/html": [
       "<div>\n",
       "<style scoped>\n",
       "    .dataframe tbody tr th:only-of-type {\n",
       "        vertical-align: middle;\n",
       "    }\n",
       "\n",
       "    .dataframe tbody tr th {\n",
       "        vertical-align: top;\n",
       "    }\n",
       "\n",
       "    .dataframe thead th {\n",
       "        text-align: right;\n",
       "    }\n",
       "</style>\n",
       "<table border=\"1\" class=\"dataframe\">\n",
       "  <thead>\n",
       "    <tr style=\"text-align: right;\">\n",
       "      <th></th>\n",
       "      <th>current_score</th>\n",
       "      <th>balls_left</th>\n",
       "      <th>wickets_left</th>\n",
       "      <th>current_runrate</th>\n",
       "      <th>last_five</th>\n",
       "      <th>runs_x</th>\n",
       "    </tr>\n",
       "  </thead>\n",
       "  <tbody>\n",
       "    <tr>\n",
       "      <th>current_score</th>\n",
       "      <td>1.000000</td>\n",
       "      <td>-0.862662</td>\n",
       "      <td>-0.385264</td>\n",
       "      <td>0.541206</td>\n",
       "      <td>0.528279</td>\n",
       "      <td>0.426976</td>\n",
       "    </tr>\n",
       "    <tr>\n",
       "      <th>balls_left</th>\n",
       "      <td>-0.862662</td>\n",
       "      <td>1.000000</td>\n",
       "      <td>0.666707</td>\n",
       "      <td>-0.083889</td>\n",
       "      <td>-0.194463</td>\n",
       "      <td>-0.035072</td>\n",
       "    </tr>\n",
       "    <tr>\n",
       "      <th>wickets_left</th>\n",
       "      <td>-0.385264</td>\n",
       "      <td>0.666707</td>\n",
       "      <td>1.000000</td>\n",
       "      <td>0.302932</td>\n",
       "      <td>0.236179</td>\n",
       "      <td>0.387297</td>\n",
       "    </tr>\n",
       "    <tr>\n",
       "      <th>current_runrate</th>\n",
       "      <td>0.541206</td>\n",
       "      <td>-0.083889</td>\n",
       "      <td>0.302932</td>\n",
       "      <td>1.000000</td>\n",
       "      <td>0.768312</td>\n",
       "      <td>0.757212</td>\n",
       "    </tr>\n",
       "    <tr>\n",
       "      <th>last_five</th>\n",
       "      <td>0.528279</td>\n",
       "      <td>-0.194463</td>\n",
       "      <td>0.236179</td>\n",
       "      <td>0.768312</td>\n",
       "      <td>1.000000</td>\n",
       "      <td>0.614438</td>\n",
       "    </tr>\n",
       "    <tr>\n",
       "      <th>runs_x</th>\n",
       "      <td>0.426976</td>\n",
       "      <td>-0.035072</td>\n",
       "      <td>0.387297</td>\n",
       "      <td>0.757212</td>\n",
       "      <td>0.614438</td>\n",
       "      <td>1.000000</td>\n",
       "    </tr>\n",
       "  </tbody>\n",
       "</table>\n",
       "</div>"
      ],
      "text/plain": [
       "                 current_score  balls_left  wickets_left  current_runrate  \\\n",
       "current_score         1.000000   -0.862662     -0.385264         0.541206   \n",
       "balls_left           -0.862662    1.000000      0.666707        -0.083889   \n",
       "wickets_left         -0.385264    0.666707      1.000000         0.302932   \n",
       "current_runrate       0.541206   -0.083889      0.302932         1.000000   \n",
       "last_five             0.528279   -0.194463      0.236179         0.768312   \n",
       "runs_x                0.426976   -0.035072      0.387297         0.757212   \n",
       "\n",
       "                 last_five    runs_x  \n",
       "current_score     0.528279  0.426976  \n",
       "balls_left       -0.194463 -0.035072  \n",
       "wickets_left      0.236179  0.387297  \n",
       "current_runrate   0.768312  0.757212  \n",
       "last_five         1.000000  0.614438  \n",
       "runs_x            0.614438  1.000000  "
      ]
     },
     "execution_count": 32,
     "metadata": {},
     "output_type": "execute_result"
    }
   ],
   "source": [
    "df.corr()"
   ]
  },
  {
   "cell_type": "code",
   "execution_count": 33,
   "id": "32ec0c2f",
   "metadata": {},
   "outputs": [],
   "source": [
    "X = encoded_df.drop(columns=['runs_x'])\n",
    "y = encoded_df['runs_x']"
   ]
  },
  {
   "cell_type": "code",
   "execution_count": 34,
   "id": "860bbd0a",
   "metadata": {},
   "outputs": [],
   "source": [
    "from sklearn.model_selection import train_test_split\n",
    "X_train,X_test,y_train,y_test = train_test_split(X,y,test_size=0.3,random_state=1)"
   ]
  },
  {
   "cell_type": "code",
   "execution_count": 35,
   "id": "98f978df",
   "metadata": {},
   "outputs": [],
   "source": [
    "# Standardinzing the dataset\n",
    "from sklearn.preprocessing import StandardScaler\n",
    "\n",
    "scaler = StandardScaler()\n"
   ]
  },
  {
   "cell_type": "code",
   "execution_count": 36,
   "id": "93f2cadc",
   "metadata": {},
   "outputs": [],
   "source": [
    "X_train = scaler.fit_transform(X_train)"
   ]
  },
  {
   "cell_type": "code",
   "execution_count": 37,
   "id": "a03431be",
   "metadata": {},
   "outputs": [],
   "source": [
    "X_test = scaler.transform(X_test)"
   ]
  },
  {
   "cell_type": "code",
   "execution_count": 38,
   "id": "dc6e9538",
   "metadata": {},
   "outputs": [],
   "source": [
    "# scaler.inverse_transform(X-train), if required to be back in original form."
   ]
  },
  {
   "cell_type": "code",
   "execution_count": 39,
   "id": "8be54786",
   "metadata": {},
   "outputs": [],
   "source": [
    "# Hyperparameter tuning\n",
    "from sklearn.model_selection import cross_val_score"
   ]
  },
  {
   "cell_type": "code",
   "execution_count": 40,
   "id": "f854e168",
   "metadata": {},
   "outputs": [
    {
     "data": {
      "text/html": [
       "<style>#sk-container-id-1 {color: black;background-color: white;}#sk-container-id-1 pre{padding: 0;}#sk-container-id-1 div.sk-toggleable {background-color: white;}#sk-container-id-1 label.sk-toggleable__label {cursor: pointer;display: block;width: 100%;margin-bottom: 0;padding: 0.3em;box-sizing: border-box;text-align: center;}#sk-container-id-1 label.sk-toggleable__label-arrow:before {content: \"▸\";float: left;margin-right: 0.25em;color: #696969;}#sk-container-id-1 label.sk-toggleable__label-arrow:hover:before {color: black;}#sk-container-id-1 div.sk-estimator:hover label.sk-toggleable__label-arrow:before {color: black;}#sk-container-id-1 div.sk-toggleable__content {max-height: 0;max-width: 0;overflow: hidden;text-align: left;background-color: #f0f8ff;}#sk-container-id-1 div.sk-toggleable__content pre {margin: 0.2em;color: black;border-radius: 0.25em;background-color: #f0f8ff;}#sk-container-id-1 input.sk-toggleable__control:checked~div.sk-toggleable__content {max-height: 200px;max-width: 100%;overflow: auto;}#sk-container-id-1 input.sk-toggleable__control:checked~label.sk-toggleable__label-arrow:before {content: \"▾\";}#sk-container-id-1 div.sk-estimator input.sk-toggleable__control:checked~label.sk-toggleable__label {background-color: #d4ebff;}#sk-container-id-1 div.sk-label input.sk-toggleable__control:checked~label.sk-toggleable__label {background-color: #d4ebff;}#sk-container-id-1 input.sk-hidden--visually {border: 0;clip: rect(1px 1px 1px 1px);clip: rect(1px, 1px, 1px, 1px);height: 1px;margin: -1px;overflow: hidden;padding: 0;position: absolute;width: 1px;}#sk-container-id-1 div.sk-estimator {font-family: monospace;background-color: #f0f8ff;border: 1px dotted black;border-radius: 0.25em;box-sizing: border-box;margin-bottom: 0.5em;}#sk-container-id-1 div.sk-estimator:hover {background-color: #d4ebff;}#sk-container-id-1 div.sk-parallel-item::after {content: \"\";width: 100%;border-bottom: 1px solid gray;flex-grow: 1;}#sk-container-id-1 div.sk-label:hover label.sk-toggleable__label {background-color: #d4ebff;}#sk-container-id-1 div.sk-serial::before {content: \"\";position: absolute;border-left: 1px solid gray;box-sizing: border-box;top: 0;bottom: 0;left: 50%;z-index: 0;}#sk-container-id-1 div.sk-serial {display: flex;flex-direction: column;align-items: center;background-color: white;padding-right: 0.2em;padding-left: 0.2em;position: relative;}#sk-container-id-1 div.sk-item {position: relative;z-index: 1;}#sk-container-id-1 div.sk-parallel {display: flex;align-items: stretch;justify-content: center;background-color: white;position: relative;}#sk-container-id-1 div.sk-item::before, #sk-container-id-1 div.sk-parallel-item::before {content: \"\";position: absolute;border-left: 1px solid gray;box-sizing: border-box;top: 0;bottom: 0;left: 50%;z-index: -1;}#sk-container-id-1 div.sk-parallel-item {display: flex;flex-direction: column;z-index: 1;position: relative;background-color: white;}#sk-container-id-1 div.sk-parallel-item:first-child::after {align-self: flex-end;width: 50%;}#sk-container-id-1 div.sk-parallel-item:last-child::after {align-self: flex-start;width: 50%;}#sk-container-id-1 div.sk-parallel-item:only-child::after {width: 0;}#sk-container-id-1 div.sk-dashed-wrapped {border: 1px dashed gray;margin: 0 0.4em 0.5em 0.4em;box-sizing: border-box;padding-bottom: 0.4em;background-color: white;}#sk-container-id-1 div.sk-label label {font-family: monospace;font-weight: bold;display: inline-block;line-height: 1.2em;}#sk-container-id-1 div.sk-label-container {text-align: center;}#sk-container-id-1 div.sk-container {/* jupyter's `normalize.less` sets `[hidden] { display: none; }` but bootstrap.min.css set `[hidden] { display: none !important; }` so we also need the `!important` here to be able to override the default hidden behavior on the sphinx rendered scikit-learn.org. See: https://github.com/scikit-learn/scikit-learn/issues/21755 */display: inline-block !important;position: relative;}#sk-container-id-1 div.sk-text-repr-fallback {display: none;}</style><div id=\"sk-container-id-1\" class=\"sk-top-container\"><div class=\"sk-text-repr-fallback\"><pre>LinearRegression()</pre><b>In a Jupyter environment, please rerun this cell to show the HTML representation or trust the notebook. <br />On GitHub, the HTML representation is unable to render, please try loading this page with nbviewer.org.</b></div><div class=\"sk-container\" hidden><div class=\"sk-item\"><div class=\"sk-estimator sk-toggleable\"><input class=\"sk-toggleable__control sk-hidden--visually\" id=\"sk-estimator-id-1\" type=\"checkbox\" checked><label for=\"sk-estimator-id-1\" class=\"sk-toggleable__label sk-toggleable__label-arrow\">LinearRegression</label><div class=\"sk-toggleable__content\"><pre>LinearRegression()</pre></div></div></div></div></div>"
      ],
      "text/plain": [
       "LinearRegression()"
      ]
     },
     "execution_count": 40,
     "metadata": {},
     "output_type": "execute_result"
    }
   ],
   "source": [
    "# --- Model Building ---\n",
    "# Linear Regression Model\n",
    "from sklearn.linear_model import LinearRegression\n",
    "regressor = LinearRegression()\n",
    "regressor.fit(X_train,y_train)"
   ]
  },
  {
   "cell_type": "code",
   "execution_count": 41,
   "id": "b5c87dcd",
   "metadata": {},
   "outputs": [],
   "source": [
    "mse= cross_val_score(regressor,X_train,y_train,scoring = 'neg_mean_squared_error',cv= 10)"
   ]
  },
  {
   "cell_type": "code",
   "execution_count": 42,
   "id": "09ea4692",
   "metadata": {},
   "outputs": [
    {
     "data": {
      "text/plain": [
       "-316.1534180443492"
      ]
     },
     "execution_count": 42,
     "metadata": {},
     "output_type": "execute_result"
    }
   ],
   "source": [
    "np.mean(mse)"
   ]
  },
  {
   "cell_type": "code",
   "execution_count": 43,
   "id": "e017b916",
   "metadata": {},
   "outputs": [],
   "source": [
    "y_pred_lr = regressor.predict(X_test)"
   ]
  },
  {
   "cell_type": "code",
   "execution_count": 44,
   "id": "da7b0953",
   "metadata": {},
   "outputs": [
    {
     "data": {
      "text/plain": [
       "array([192.63329919, 250.20751794, 147.95800622, ..., 167.51708825,\n",
       "       145.73876794, 168.51251062])"
      ]
     },
     "execution_count": 44,
     "metadata": {},
     "output_type": "execute_result"
    }
   ],
   "source": [
    "y_pred_lr"
   ]
  },
  {
   "cell_type": "code",
   "execution_count": 45,
   "id": "3004b86d",
   "metadata": {},
   "outputs": [],
   "source": [
    "import seaborn as sns\n",
    "#sns.displot(y_pred_lr-y_test,kind='kde')"
   ]
  },
  {
   "cell_type": "code",
   "execution_count": 46,
   "id": "03149efb",
   "metadata": {},
   "outputs": [
    {
     "name": "stdout",
     "output_type": "stream",
     "text": [
      "---- Linear Regression - Model Evaluation ----\n",
      "Mean Absolute Error (MAE): 13.035866049644603\n",
      "Mean Squared Error (MSE): 308.67473169599225\n",
      "Root Mean Squared Error (RMSE): 17.56914146155105\n",
      "\n",
      "R-squared: 0.6932197739669635\n"
     ]
    }
   ],
   "source": [
    "from sklearn.metrics import mean_absolute_error as mae , mean_squared_error as mse , accuracy_score\n",
    "print(\"---- Linear Regression - Model Evaluation ----\")\n",
    "print(\"Mean Absolute Error (MAE): {}\".format(mae(y_test, y_pred_lr)))\n",
    "print(\"Mean Squared Error (MSE): {}\".format(mse(y_test, y_pred_lr)))\n",
    "print(\"Root Mean Squared Error (RMSE): {}\".format(np.sqrt(mse(y_test, y_pred_lr))))\n",
    "print('\\nR-squared:', regressor.score(X_train, y_train))"
   ]
  },
  {
   "cell_type": "markdown",
   "id": "d8221f35",
   "metadata": {},
   "source": [
    "Lasso Regression Application"
   ]
  },
  {
   "cell_type": "code",
   "execution_count": 47,
   "id": "bdd3ca0f",
   "metadata": {},
   "outputs": [],
   "source": [
    "from sklearn.linear_model import Lasso\n",
    "from sklearn.model_selection import GridSearchCV"
   ]
  },
  {
   "cell_type": "code",
   "execution_count": 48,
   "id": "0961fa64",
   "metadata": {},
   "outputs": [],
   "source": [
    "#lasso=Lasso()\n",
    "\n",
    "#parameters={'alpha':[1e-8,1e-3,1e-2,1,5,10,20],}\n",
    "\n",
    "#lasso_regressor=GridSearchCV(lasso,parameters,scoring='neg_mean_squared_error',cv=10)\n",
    "\n",
    "#lasso_regressor.fit(X_train,y_train)\n",
    "#print(lasso_regressor.best_params_)\n",
    "#print(lasso_regressor.best_score_)"
   ]
  },
  {
   "cell_type": "code",
   "execution_count": 49,
   "id": "67afcd0d",
   "metadata": {},
   "outputs": [],
   "source": [
    "#y_pred_ls = lasso_regressor.predict(X_test)"
   ]
  },
  {
   "cell_type": "code",
   "execution_count": 50,
   "id": "a3820f93",
   "metadata": {},
   "outputs": [],
   "source": [
    "#y_pred_ls"
   ]
  },
  {
   "cell_type": "code",
   "execution_count": 51,
   "id": "90b781a0",
   "metadata": {},
   "outputs": [],
   "source": [
    "\n",
    "#sns.displot(y_pred_ls - y_test,kind='kde')"
   ]
  },
  {
   "cell_type": "code",
   "execution_count": 52,
   "id": "3fcfc41a",
   "metadata": {},
   "outputs": [],
   "source": [
    "#print(\"---- Lasso - Model Evaluation ----\")\n",
    "#print(\"Mean Absolute Error (MAE): {}\".format(mae(y_test, y_pred_ls)))\n",
    "#print(\"Mean Squared Error (MSE): {}\".format(mse(y_test, y_pred_ls)))\n",
    "#print(\"Root Mean Squared Error (RMSE): {}\".format(np.sqrt(mse(y_test, y_pred_ls))))\n",
    "#print('\\nR-squared:', lasso_regressor.score(X_train, y_train))"
   ]
  },
  {
   "cell_type": "markdown",
   "id": "d84c3e66",
   "metadata": {},
   "source": [
    "Random Forest Algo"
   ]
  },
  {
   "cell_type": "code",
   "execution_count": 53,
   "id": "0a24e510",
   "metadata": {},
   "outputs": [
    {
     "data": {
      "text/html": [
       "<style>#sk-container-id-2 {color: black;background-color: white;}#sk-container-id-2 pre{padding: 0;}#sk-container-id-2 div.sk-toggleable {background-color: white;}#sk-container-id-2 label.sk-toggleable__label {cursor: pointer;display: block;width: 100%;margin-bottom: 0;padding: 0.3em;box-sizing: border-box;text-align: center;}#sk-container-id-2 label.sk-toggleable__label-arrow:before {content: \"▸\";float: left;margin-right: 0.25em;color: #696969;}#sk-container-id-2 label.sk-toggleable__label-arrow:hover:before {color: black;}#sk-container-id-2 div.sk-estimator:hover label.sk-toggleable__label-arrow:before {color: black;}#sk-container-id-2 div.sk-toggleable__content {max-height: 0;max-width: 0;overflow: hidden;text-align: left;background-color: #f0f8ff;}#sk-container-id-2 div.sk-toggleable__content pre {margin: 0.2em;color: black;border-radius: 0.25em;background-color: #f0f8ff;}#sk-container-id-2 input.sk-toggleable__control:checked~div.sk-toggleable__content {max-height: 200px;max-width: 100%;overflow: auto;}#sk-container-id-2 input.sk-toggleable__control:checked~label.sk-toggleable__label-arrow:before {content: \"▾\";}#sk-container-id-2 div.sk-estimator input.sk-toggleable__control:checked~label.sk-toggleable__label {background-color: #d4ebff;}#sk-container-id-2 div.sk-label input.sk-toggleable__control:checked~label.sk-toggleable__label {background-color: #d4ebff;}#sk-container-id-2 input.sk-hidden--visually {border: 0;clip: rect(1px 1px 1px 1px);clip: rect(1px, 1px, 1px, 1px);height: 1px;margin: -1px;overflow: hidden;padding: 0;position: absolute;width: 1px;}#sk-container-id-2 div.sk-estimator {font-family: monospace;background-color: #f0f8ff;border: 1px dotted black;border-radius: 0.25em;box-sizing: border-box;margin-bottom: 0.5em;}#sk-container-id-2 div.sk-estimator:hover {background-color: #d4ebff;}#sk-container-id-2 div.sk-parallel-item::after {content: \"\";width: 100%;border-bottom: 1px solid gray;flex-grow: 1;}#sk-container-id-2 div.sk-label:hover label.sk-toggleable__label {background-color: #d4ebff;}#sk-container-id-2 div.sk-serial::before {content: \"\";position: absolute;border-left: 1px solid gray;box-sizing: border-box;top: 0;bottom: 0;left: 50%;z-index: 0;}#sk-container-id-2 div.sk-serial {display: flex;flex-direction: column;align-items: center;background-color: white;padding-right: 0.2em;padding-left: 0.2em;position: relative;}#sk-container-id-2 div.sk-item {position: relative;z-index: 1;}#sk-container-id-2 div.sk-parallel {display: flex;align-items: stretch;justify-content: center;background-color: white;position: relative;}#sk-container-id-2 div.sk-item::before, #sk-container-id-2 div.sk-parallel-item::before {content: \"\";position: absolute;border-left: 1px solid gray;box-sizing: border-box;top: 0;bottom: 0;left: 50%;z-index: -1;}#sk-container-id-2 div.sk-parallel-item {display: flex;flex-direction: column;z-index: 1;position: relative;background-color: white;}#sk-container-id-2 div.sk-parallel-item:first-child::after {align-self: flex-end;width: 50%;}#sk-container-id-2 div.sk-parallel-item:last-child::after {align-self: flex-start;width: 50%;}#sk-container-id-2 div.sk-parallel-item:only-child::after {width: 0;}#sk-container-id-2 div.sk-dashed-wrapped {border: 1px dashed gray;margin: 0 0.4em 0.5em 0.4em;box-sizing: border-box;padding-bottom: 0.4em;background-color: white;}#sk-container-id-2 div.sk-label label {font-family: monospace;font-weight: bold;display: inline-block;line-height: 1.2em;}#sk-container-id-2 div.sk-label-container {text-align: center;}#sk-container-id-2 div.sk-container {/* jupyter's `normalize.less` sets `[hidden] { display: none; }` but bootstrap.min.css set `[hidden] { display: none !important; }` so we also need the `!important` here to be able to override the default hidden behavior on the sphinx rendered scikit-learn.org. See: https://github.com/scikit-learn/scikit-learn/issues/21755 */display: inline-block !important;position: relative;}#sk-container-id-2 div.sk-text-repr-fallback {display: none;}</style><div id=\"sk-container-id-2\" class=\"sk-top-container\"><div class=\"sk-text-repr-fallback\"><pre>GridSearchCV(cv=10, estimator=RandomForestRegressor(),\n",
       "             param_grid={&#x27;max_depth&#x27;: [11, 21, 31], &#x27;n_estimators&#x27;: [75, 100]},\n",
       "             scoring=&#x27;neg_mean_squared_error&#x27;)</pre><b>In a Jupyter environment, please rerun this cell to show the HTML representation or trust the notebook. <br />On GitHub, the HTML representation is unable to render, please try loading this page with nbviewer.org.</b></div><div class=\"sk-container\" hidden><div class=\"sk-item sk-dashed-wrapped\"><div class=\"sk-label-container\"><div class=\"sk-label sk-toggleable\"><input class=\"sk-toggleable__control sk-hidden--visually\" id=\"sk-estimator-id-2\" type=\"checkbox\" ><label for=\"sk-estimator-id-2\" class=\"sk-toggleable__label sk-toggleable__label-arrow\">GridSearchCV</label><div class=\"sk-toggleable__content\"><pre>GridSearchCV(cv=10, estimator=RandomForestRegressor(),\n",
       "             param_grid={&#x27;max_depth&#x27;: [11, 21, 31], &#x27;n_estimators&#x27;: [75, 100]},\n",
       "             scoring=&#x27;neg_mean_squared_error&#x27;)</pre></div></div></div><div class=\"sk-parallel\"><div class=\"sk-parallel-item\"><div class=\"sk-item\"><div class=\"sk-label-container\"><div class=\"sk-label sk-toggleable\"><input class=\"sk-toggleable__control sk-hidden--visually\" id=\"sk-estimator-id-3\" type=\"checkbox\" ><label for=\"sk-estimator-id-3\" class=\"sk-toggleable__label sk-toggleable__label-arrow\">estimator: RandomForestRegressor</label><div class=\"sk-toggleable__content\"><pre>RandomForestRegressor()</pre></div></div></div><div class=\"sk-serial\"><div class=\"sk-item\"><div class=\"sk-estimator sk-toggleable\"><input class=\"sk-toggleable__control sk-hidden--visually\" id=\"sk-estimator-id-4\" type=\"checkbox\" ><label for=\"sk-estimator-id-4\" class=\"sk-toggleable__label sk-toggleable__label-arrow\">RandomForestRegressor</label><div class=\"sk-toggleable__content\"><pre>RandomForestRegressor()</pre></div></div></div></div></div></div></div></div></div></div>"
      ],
      "text/plain": [
       "GridSearchCV(cv=10, estimator=RandomForestRegressor(),\n",
       "             param_grid={'max_depth': [11, 21, 31], 'n_estimators': [75, 100]},\n",
       "             scoring='neg_mean_squared_error')"
      ]
     },
     "execution_count": 53,
     "metadata": {},
     "output_type": "execute_result"
    }
   ],
   "source": [
    "from sklearn.ensemble import RandomForestRegressor\n",
    "from sklearn.model_selection import GridSearchCV\n",
    "clf = RandomForestRegressor()\n",
    "parameters1 = {'n_estimators':[75,100],'max_depth':[11,21,31]}\n",
    "#(n_estimators = 100,max_depth=21, random_state=0)\n",
    "clf_regressor = GridSearchCV(clf,parameters1,scoring='neg_mean_squared_error',cv=10)\n",
    "clf_regressor.fit(X_train, y_train)"
   ]
  },
  {
   "cell_type": "code",
   "execution_count": 54,
   "id": "2d9a3fa1",
   "metadata": {},
   "outputs": [
    {
     "name": "stdout",
     "output_type": "stream",
     "text": [
      "{'max_depth': 31, 'n_estimators': 75}\n",
      "-31.458345839067942\n"
     ]
    }
   ],
   "source": [
    "print(clf_regressor.best_params_)\n",
    "print(clf_regressor.best_score_)"
   ]
  },
  {
   "cell_type": "code",
   "execution_count": 55,
   "id": "7e580a3a",
   "metadata": {},
   "outputs": [],
   "source": [
    "y_pred_clf = clf_regressor.predict(X_test)"
   ]
  },
  {
   "cell_type": "code",
   "execution_count": 56,
   "id": "bd2ecc76",
   "metadata": {},
   "outputs": [
    {
     "data": {
      "text/plain": [
       "array([145.49333333, 241.        , 124.72975968, ..., 136.66666667,\n",
       "       145.53671081, 192.04481838])"
      ]
     },
     "execution_count": 56,
     "metadata": {},
     "output_type": "execute_result"
    }
   ],
   "source": [
    "y_pred_clf"
   ]
  },
  {
   "cell_type": "code",
   "execution_count": 57,
   "id": "a566de90",
   "metadata": {},
   "outputs": [],
   "source": [
    "import seaborn as sns\n",
    "#sns.displot(y_pred_clf - y_test,kind='kde')"
   ]
  },
  {
   "cell_type": "code",
   "execution_count": 59,
   "id": "2f23ec28",
   "metadata": {},
   "outputs": [
    {
     "name": "stdout",
     "output_type": "stream",
     "text": [
      "---- RandomForest Regression - Model Evaluation ----\n",
      "Mean Absolute Error (MAE): 2.407182593663626\n",
      "Mean Squared Error (MSE): 23.856918087796878\n",
      "Root Mean Squared Error (RMSE): 4.884354418733031\n",
      "\n",
      "R-squared: -4.988365056352677\n"
     ]
    }
   ],
   "source": [
    "print(\"---- RandomForest Regression - Model Evaluation ----\")\n",
    "print(\"Mean Absolute Error (MAE): {}\".format(mae(y_test, y_pred_clf)))\n",
    "print(\"Mean Squared Error (MSE): {}\".format(mse(y_test, y_pred_clf)))\n",
    "print(\"Root Mean Squared Error (RMSE): {}\".format(np.sqrt(mse(y_test, y_pred_clf))))\n",
    "print('\\nR-squared:', clf_regressor.score(X_train, y_train))"
   ]
  },
  {
   "cell_type": "code",
   "execution_count": null,
   "id": "db776775",
   "metadata": {},
   "outputs": [],
   "source": [
    "import numpy as np\n",
    "import matplotlib.pyplot as plt\n",
    "from sklearn.model_selection import learning_curve\n",
    "rf = RandomForestRegressor(n_estimators =100, max_depth= 31)\n",
    "\n",
    "# Calculate the learning curve\n",
    "train_sizes, train_scores, test_scores = learning_curve(\n",
    "    rf, X_train, y_train, cv=10, scoring='neg_mean_squared_error', \n",
    "    train_sizes=np.linspace(0.1, 1.0, 10))\n"
   ]
  },
  {
   "cell_type": "code",
   "execution_count": null,
   "id": "7b58f2a3",
   "metadata": {},
   "outputs": [],
   "source": [
    "# Plot the learning curve\n",
    "train_scores_mean = -np.mean(train_scores, axis=1)\n",
    "test_scores_mean = -np.mean(test_scores, axis=1)\n",
    "plt.plot(train_sizes, train_scores_mean, 'o-', color='r',\n",
    "         label='Training score')\n",
    "plt.plot(train_sizes, test_scores_mean, 'o-', color='g',\n",
    "         label='Cross-validation score')\n",
    "plt.xlabel('Training set size')\n",
    "plt.ylabel('Mean squared error')\n",
    "#plt.title('Random forest regression learning curve')\n",
    "plt.legend(loc='best')\n",
    "plt.show()"
   ]
  },
  {
   "cell_type": "markdown",
   "id": "c872c18f",
   "metadata": {},
   "source": [
    "# XGB Booster"
   ]
  },
  {
   "cell_type": "code",
   "execution_count": null,
   "id": "54dff324",
   "metadata": {},
   "outputs": [],
   "source": [
    "from xgboost import XGBRegressor\n",
    "#from numpy import absolute\n",
    "#from sklearn.model_selection import RepeatedKFold\n",
    "#xgb = XGBRegressor(n_estimators=1000,learning_rate=0.2,max_depth=12,random_state=1)\n",
    "# define model evaluation method\n",
    "#cv = RepeatedKFold(n_splits=10, n_repeats=3, random_state=1)\n",
    "# evaluate model\n",
    "#scores = cross_val_score(xgb, X_train, y_train, scoring='neg_mean_absolute_error', cv=cv, n_jobs=-1)\n",
    "\n",
    "# force scores to be positive\n",
    "#scores = absolute(scores)\n",
    "\n",
    "#print('Mean MAE: %.3f (%.3f)' % (scores.mean(), scores.std()) )\n",
    "\n",
    "\n",
    "# define model\n",
    "xgb = XGBRegressor()\n",
    "\n",
    "# Define the parameter grid to search\n",
    "param_grid = {'learning_rate': [0.1,0.2],\n",
    "              'max_depth': [10, 12],\n",
    "              'n_estimators': [500,1000]}\n",
    "\n",
    "# Define the GridSearchCV object\n",
    "grid = GridSearchCV(xgb, param_grid, cv=5)\n",
    "\n",
    "# Fit the GridSearchCV object to the training data\n",
    "grid.fit(X_train, y_train)\n",
    "\n",
    "# Print the best hyperparameters\n",
    "print(grid.best_params_)\n"
   ]
  },
  {
   "cell_type": "code",
   "execution_count": null,
   "id": "1f71bf2b",
   "metadata": {},
   "outputs": [],
   "source": [
    "y_pred_xgb = grid.predict(X_test)"
   ]
  },
  {
   "cell_type": "code",
   "execution_count": null,
   "id": "da5bf8d8",
   "metadata": {},
   "outputs": [],
   "source": [
    "y_pred_xgb"
   ]
  },
  {
   "cell_type": "code",
   "execution_count": null,
   "id": "743a540a",
   "metadata": {},
   "outputs": [],
   "source": [
    "import seaborn as sns\n",
    "sns.displot(y_pred_xgb - y_test,kind='kde')"
   ]
  },
  {
   "cell_type": "code",
   "execution_count": null,
   "id": "3de9ea3a",
   "metadata": {},
   "outputs": [],
   "source": [
    "print(\"---- XGB - Model Evaluation ----\")\n",
    "print(\"Mean Absolute Error (MAE): {}\".format(mae(y_test, y_pred_xgb)))\n",
    "print(\"Mean Squared Error (MSE): {}\".format(mse(y_test, y_pred_xgb)))\n",
    "print(\"Root Mean Squared Error (RMSE): {}\".format(np.sqrt(mse(y_test, y_pred_xgb))))\n",
    "print('\\nR-squared:', grid.score(X_train, y_train))"
   ]
  },
  {
   "cell_type": "code",
   "execution_count": null,
   "id": "2906d79a",
   "metadata": {},
   "outputs": [],
   "source": [
    "# define the model\n",
    "#model = XGBRegressor()\n",
    "# define the datasets to evaluate each iteration\n",
    "#evalset = [(X_train, y_train), (X_test,y_test)]\n",
    "# fit the model\n",
    "#model.fit(X_train, y_train, eval_metric='logloss', eval_set=evalset)\n",
    "# evaluate performance\n",
    "#yhat = model.predict(X_test)\n",
    "\n",
    "#from matplotlib import pyplot\n",
    "# retrieve performance metrics\n",
    "#results = model.evals_result()\n",
    "# plot learning curves\n",
    "#pyplot.plot(results['validation_0']['logloss'], label='train')\n",
    "#pyplot.plot(results['validation_1']['logloss'], label='test')\n",
    "# show the legend\n",
    "#pyplot.legend()\n",
    "# show the plot\n",
    "#pyplot.show()"
   ]
  },
  {
   "cell_type": "code",
   "execution_count": null,
   "id": "f0c35a76",
   "metadata": {},
   "outputs": [],
   "source": [
    "#from sklearn.linear_model import Ridge\n",
    "#from sklearn.model_selection import GridSearchCV\n",
    "#ridge=Ridge()\n",
    "#parameters={'alpha':[1e-15,1e-10,1e-8,1e-3,1e-2,1,5,10,20,30,35,40]}\n",
    "#ridge_regressor=GridSearchCV(ridge,parameters,scoring='neg_mean_squared_error',cv=5)\n",
    "#ridge_regressor.fit(X_train,y_train)\n",
    "#print(ridge_regressor.best_params_)\n",
    "#print(ridge_regressor.best_score_)\n",
    "#y_pred_ridge = ridge_regressor.predict(X_test)\n"
   ]
  },
  {
   "cell_type": "code",
   "execution_count": null,
   "id": "64bd10e2",
   "metadata": {},
   "outputs": [],
   "source": [
    "import numpy as np\n",
    "import matplotlib.pyplot as plt\n",
    "from sklearn.model_selection import learning_curve\n",
    "import xgboost as xgb\n",
    "\n",
    "# Define the XGBRegressor model with chosen hyperparameters\n",
    "xgb_model = xgb.XGBRegressor(learning_rate=0.1, max_depth=3, n_estimators=100)\n",
    "\n",
    "# Define the range of training set sizes to use\n",
    "train_sizes = np.linspace(0.1, 1.0, 10)\n",
    "\n",
    "# Generate the learning curve data\n",
    "train_sizes, train_scores, validation_scores = learning_curve(\n",
    "    xgb_model, X_train, y_train, train_sizes=train_sizes, cv=5)\n",
    "\n",
    "# Calculate the mean and standard deviation of the training and validation scores\n",
    "train_scores_mean = np.mean(train_scores, axis=1)\n",
    "train_scores_std = np.std(train_scores, axis=1)\n",
    "validation_scores_mean = np.mean(validation_scores, axis=1)\n",
    "validation_scores_std = np.std(validation_scores, axis=1)\n",
    "\n",
    "# Plot the learning curve\n",
    "plt.plot(train_sizes, train_scores_mean, label='Training score')\n",
    "plt.fill_between(train_sizes, train_scores_mean - train_scores_std,\n",
    "                 train_scores_mean + train_scores_std, alpha=0.2)\n",
    "plt.plot(train_sizes, validation_scores_mean, label='Validation score')\n",
    "plt.fill_between(train_sizes, validation_scores_mean - validation_scores_std,\n",
    "                 validation_scores_mean + validation_scores_std, alpha=0.2)\n",
    "plt.xlabel('Number of training examples')\n",
    "plt.ylabel('R-squared score')\n",
    "plt.legend()\n",
    "plt.show()\n"
   ]
  },
  {
   "cell_type": "code",
   "execution_count": null,
   "id": "36af586b",
   "metadata": {},
   "outputs": [],
   "source": [
    "import numpy as np\n",
    "import matplotlib.pyplot as plt\n",
    "from sklearn.model_selection import learning_curve\n",
    "import xgboost as xgb\n",
    "\n",
    "xgb_model = xgb.XGBRegressor(learning_rate=0.1, max_depth=10, n_estimators=1000)\n",
    "\n",
    "\n",
    "# Calculate the learning curve\n",
    "train_sizes, train_scores, test_scores = learning_curve(\n",
    "    xgb_model, X_train, y_train, cv=10, scoring='neg_mean_squared_error', \n",
    "    train_sizes=np.linspace(0.1, 1.0, 10))\n"
   ]
  },
  {
   "cell_type": "code",
   "execution_count": null,
   "id": "8cbd030b",
   "metadata": {},
   "outputs": [],
   "source": [
    "# Plot the learning curve\n",
    "train_scores_mean = -np.mean(train_scores, axis=1)\n",
    "test_scores_mean = -np.mean(test_scores, axis=1)\n",
    "plt.plot(train_sizes, train_scores_mean, 'o-', color='r',\n",
    "         label='Training score')\n",
    "plt.plot(train_sizes, test_scores_mean, 'o-', color='g',\n",
    "         label='Cross-validation score')\n",
    "plt.xlabel('Training set size')\n",
    "plt.ylabel('Mean squared error')\n",
    "#plt.title('Random forest regression learning curve')\n",
    "plt.legend(loc='best')\n",
    "plt.show()"
   ]
  },
  {
   "cell_type": "code",
   "execution_count": null,
   "id": "cd29d44c",
   "metadata": {},
   "outputs": [],
   "source": []
  }
 ],
 "metadata": {
  "kernelspec": {
   "display_name": "Python 3 (ipykernel)",
   "language": "python",
   "name": "python3"
  },
  "language_info": {
   "codemirror_mode": {
    "name": "ipython",
    "version": 3
   },
   "file_extension": ".py",
   "mimetype": "text/x-python",
   "name": "python",
   "nbconvert_exporter": "python",
   "pygments_lexer": "ipython3",
   "version": "3.9.13"
  }
 },
 "nbformat": 4,
 "nbformat_minor": 5
}
